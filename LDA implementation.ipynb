{
 "cells": [
  {
   "cell_type": "code",
   "execution_count": 86,
   "metadata": {
    "collapsed": true
   },
   "outputs": [],
   "source": [
    "import pandas as pd\n",
    "import numpy as np"
   ]
  },
  {
   "cell_type": "code",
   "execution_count": 16,
   "metadata": {
    "collapsed": true
   },
   "outputs": [],
   "source": [
    "data = pd.read_excel(\"FOMC_token_separated.xlsx\")\n",
    "data = data.dropna()"
   ]
  },
  {
   "cell_type": "markdown",
   "metadata": {},
   "source": [
    "Use meeting-aggregation to perform TF-IDF"
   ]
  },
  {
   "cell_type": "code",
   "execution_count": 39,
   "metadata": {},
   "outputs": [],
   "source": [
    "meeting_text = []\n",
    "for meeting in data['Date'].unique():\n",
    "    meeting_text.append(' '.join(data.groupby('Date').get_group(meeting)['content'].values).split(' '))"
   ]
  },
  {
   "cell_type": "code",
   "execution_count": null,
   "metadata": {},
   "outputs": [],
   "source": []
  },
  {
   "cell_type": "code",
   "execution_count": 20,
   "metadata": {},
   "outputs": [
    {
     "name": "stderr",
     "output_type": "stream",
     "text": [
      "C:\\Users\\barry\\Anaconda3\\lib\\site-packages\\gensim\\utils.py:1197: UserWarning: detected Windows; aliasing chunkize to chunkize_serial\n",
      "  warnings.warn(\"detected Windows; aliasing chunkize to chunkize_serial\")\n"
     ]
    }
   ],
   "source": [
    "import gensim\n",
    "from gensim import corpora, models"
   ]
  },
  {
   "cell_type": "code",
   "execution_count": 42,
   "metadata": {},
   "outputs": [],
   "source": [
    "dictionary = corpora.Dictionary(meeting_text)"
   ]
  },
  {
   "cell_type": "code",
   "execution_count": 52,
   "metadata": {},
   "outputs": [],
   "source": [
    "corpus = [dictionary.doc2bow(text) for text in meeting_text]"
   ]
  },
  {
   "cell_type": "code",
   "execution_count": 53,
   "metadata": {
    "collapsed": true
   },
   "outputs": [],
   "source": [
    "tfidf = models.TfidfModel(corpus, id2word = dictionary)"
   ]
  },
  {
   "cell_type": "markdown",
   "metadata": {},
   "source": [
    "Follow HMP, we define the TF-IDF score for each term $t$ as \n",
    "\n",
    "$$\n",
    "\\text{TF-IDF}_t = Tf_t \\times Df_t\n",
    "$$\n",
    "where $$Tf_t = 1+\\log{n_t} = 1 + \\log{\\sum_d n_{t,d}}$$, and $$IDF_t = \\log(\\frac{D}{D_t}) = \\log(\\frac{D}{\\sum_d \\mathbb{1}\\{n_{t,d} >0\\}})$$\n",
    "\n",
    "where $n_{t,d}$ is the count of term $t$ in document $d$. Note that this calculation is applied for the entire document, meaning that each term gets one TF-IDF score, as oppose to common practice where TF-IDF is calculated differently for the same term in different document"
   ]
  },
  {
   "cell_type": "code",
   "execution_count": 62,
   "metadata": {},
   "outputs": [
    {
     "name": "stdout",
     "output_type": "stream",
     "text": [
      "(0, 0.021594972031988697)\n",
      "(2, 0.000953251169690239)\n"
     ]
    }
   ],
   "source": [
    "#In gensim default practice, the tf-idf of the same term (0) in different documents are different\n",
    "print(tfidf[corpus][0][0])\n",
    "print(tfidf[corpus][1][0])"
   ]
  },
  {
   "cell_type": "code",
   "execution_count": 95,
   "metadata": {},
   "outputs": [
    {
     "data": {
      "text/plain": [
       "(11498, 148)"
      ]
     },
     "execution_count": 95,
     "metadata": {},
     "output_type": "execute_result"
    }
   ],
   "source": [
    "# calculate our own tfidf\n",
    "# first, we can extract term-document matrix as \n",
    "term_document = gensim.matutils.corpus2dense(corpus, num_terms=len(dictionary.keys()))"
   ]
  },
  {
   "cell_type": "code",
   "execution_count": 132,
   "metadata": {},
   "outputs": [
    {
     "data": {
      "text/plain": [
       "0        4.118433\n",
       "1        0.952854\n",
       "2        0.103438\n",
       "3        1.225809\n",
       "4        3.107286\n",
       "5        5.193166\n",
       "6        1.412798\n",
       "7        9.029460\n",
       "8        0.174359\n",
       "9        0.311120\n",
       "10       4.997212\n",
       "11       4.812495\n",
       "12       3.823686\n",
       "13       0.167170\n",
       "14       1.391438\n",
       "15       0.700080\n",
       "16       9.773803\n",
       "17       8.853012\n",
       "18       0.305847\n",
       "19       1.173733\n",
       "20       0.172576\n",
       "21       0.062154\n",
       "22       0.000000\n",
       "23       0.306943\n",
       "24       0.323903\n",
       "25       0.168990\n",
       "26       8.646760\n",
       "27       0.000000\n",
       "28       4.748622\n",
       "29       1.370186\n",
       "           ...   \n",
       "11468    4.997212\n",
       "11469    4.997212\n",
       "11470    4.997212\n",
       "11471    4.997212\n",
       "11472    4.997212\n",
       "11473    4.997212\n",
       "11474    4.997212\n",
       "11475    8.461016\n",
       "11476    4.997212\n",
       "11477    4.997212\n",
       "11478    4.997212\n",
       "11479    4.997212\n",
       "11480    4.997212\n",
       "11481    4.997212\n",
       "11482    4.997212\n",
       "11483    8.461016\n",
       "11484    4.997212\n",
       "11485    8.461016\n",
       "11486    4.997212\n",
       "11487    4.997212\n",
       "11488    4.997212\n",
       "11489    4.997212\n",
       "11490    4.997212\n",
       "11491    4.997212\n",
       "11492    4.997212\n",
       "11493    4.997212\n",
       "11494    4.997212\n",
       "11495    4.997212\n",
       "11496    4.997212\n",
       "11497    8.461016\n",
       "Length: 11498, dtype: float64"
      ]
     },
     "execution_count": 132,
     "metadata": {},
     "output_type": "execute_result"
    }
   ],
   "source": [
    "# Calculate tf-idf\n",
    "TF = 1+np.log(term_document.sum(axis = 1))\n",
    "IDF = np.log(term_document.shape[1] / np.count_nonzero(term_document, axis = 1))\n",
    "\n",
    "TF_IDF = pd.Series(dict(zip(dictionary.keys(), TF*IDF)))\n",
    "TF_IDF"
   ]
  },
  {
   "cell_type": "markdown",
   "metadata": {},
   "source": [
    "We keep the top 9000 terms with highest TF-IDF score"
   ]
  },
  {
   "cell_type": "code",
   "execution_count": 140,
   "metadata": {},
   "outputs": [],
   "source": [
    "keys_to_use = TF_IDF.sort_values(ascending = False)[:9000].index.values"
   ]
  },
  {
   "cell_type": "code",
   "execution_count": 148,
   "metadata": {},
   "outputs": [
    {
     "data": {
      "image/png": "[encoded data removed]",
      "text/plain": [
       "<Figure size 432x288 with 1 Axes>"
      ]
     },
     "metadata": {},
     "output_type": "display_data"
    }
   ],
   "source": [
    "#We can plot the TF-IDF vs. the rank for each term\n",
    "import matplotlib.pyplot as plt\n",
    "TF_IDF.sort_values(ascending = False).reset_index()[0].plot()\n",
    "plt.show()"
   ]
  },
  {
   "cell_type": "markdown",
   "metadata": {},
   "source": [
    "Now we generate the term-document matrix for only the top 9000 terms"
   ]
  },
  {
   "cell_type": "code",
   "execution_count": null,
   "metadata": {
    "collapsed": true
   },
   "outputs": [],
   "source": []
  }
 ],
 "metadata": {
  "kernelspec": {
   "display_name": "Python 3",
   "language": "python",
   "name": "python3"
  },
  "language_info": {
   "codemirror_mode": {
    "name": "ipython",
    "version": 3
   },
   "file_extension": ".py",
   "mimetype": "text/x-python",
   "name": "python",
   "nbconvert_exporter": "python",
   "pygments_lexer": "ipython3",
   "version": "3.6.1"
  }
 },
 "nbformat": 4,
 "nbformat_minor": 2
}
