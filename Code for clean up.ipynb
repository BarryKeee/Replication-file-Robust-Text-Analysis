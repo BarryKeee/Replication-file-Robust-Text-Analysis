{
 "cells": [
  {
   "cell_type": "code",
   "execution_count": 1,
   "metadata": {
    "collapsed": true
   },
   "outputs": [],
   "source": [
    "from tika import parser\n",
    "import re\n",
    "import timeit\n",
    "import os\n",
    "import pandas as pd"
   ]
  },
  {
   "cell_type": "code",
   "execution_count": 4,
   "metadata": {
    "collapsed": true
   },
   "outputs": [],
   "source": [
    "def generate_raw_data():\n",
    "    \n",
    "    \"\"\"\n",
    "    This function generates raw text data from FOMC transcripts\n",
    "    \n",
    "    returns a list where each element is the full text within each FOMC meeting\n",
    "    \n",
    "    It will take about 4-5 minutes\n",
    "    \"\"\"\n",
    "    \n",
    "    cwd = os.getcwd()\n",
    "    base_directory = './FOMC_pdf'\n",
    "    raw_doc = os.listdir(base_directory)\n",
    "    filelist = sorted(raw_doc)\n",
    "    \n",
    "    onlyfiles = [f for f in os.listdir(base_directory) if os.path.isfile(os.path.join(base_directory, f))]\n",
    "    date = [f[4:12] for f in onlyfiles]\n",
    "\n",
    "    \n",
    "    start = timeit.default_timer()\n",
    "    \n",
    "    document = []\n",
    "    raw_text = pd.DataFrame(columns = ['Date','Speaker', 'content'])\n",
    "\n",
    "    for i,file in enumerate(filelist):\n",
    "        parsed = parser.from_file(os.path.join(cwd, 'FOMC_pdf',file))\n",
    "        interjections = re.split('MR. |MS. |CHAIRMAN |VICE CHAIRMAN ', parsed['content'])[1:]\n",
    "        temp_df = pd.DataFrame(columns = ['Date','Speaker','content'])\n",
    "        interjection_new = []\n",
    "        for interjection in interjections:\n",
    "            \n",
    "            temp_temp_df = pd.DataFrame(columns = ['Date','Speaker','content'], index = [0])\n",
    "            interjection = interjection.replace('\\n',' ')\n",
    "            temp_temp_df['Speaker'] = interjection.split('.')[0]\n",
    "            temp_temp_df['content'] = '.'.join(interjection.split('.')[1:])\n",
    "            temp_df = pd.concat([temp_df, temp_temp_df], ignore_index = True)\n",
    "            interjection_new.append(interjection)\n",
    "        temp_df['Date'] = date[i]\n",
    "        document.append(interjection_new)\n",
    "        raw_text = pd.concat([raw_text, temp_df], ignore_index = True)\n",
    "    end = timeit.default_timer()\n",
    "    raw_text.index = raw_text['Date']\n",
    "    raw_text.to_excel('raw_text.xlsx')\n",
    "    print(\"Documents processed. Time: {}\".format(end - start))\n",
    "    \n",
    "    return raw_text\n",
    "\n"
   ]
  },
  {
   "cell_type": "code",
   "execution_count": 5,
   "metadata": {},
   "outputs": [
    {
     "name": "stderr",
     "output_type": "stream",
     "text": [
      "2019-04-02 23:10:00,878 [MainThread  ] [INFO ]  Retrieving http://search.maven.org/remotecontent?filepath=org/apache/tika/tika-server/1.19/tika-server-1.19.jar to C:\\Users\\barry\\AppData\\Local\\Temp\\tika-server.jar.\n",
      "2019-04-02 23:10:09,335 [MainThread  ] [INFO ]  Retrieving http://search.maven.org/remotecontent?filepath=org/apache/tika/tika-server/1.19/tika-server-1.19.jar.md5 to C:\\Users\\barry\\AppData\\Local\\Temp\\tika-server.jar.md5.\n",
      "2019-04-02 23:10:09,553 [MainThread  ] [WARNI]  Failed to see startup log message; retrying...\n",
      "2019-04-02 23:10:14,594 [MainThread  ] [WARNI]  Failed to see startup log message; retrying...\n"
     ]
    },
    {
     "name": "stdout",
     "output_type": "stream",
     "text": [
      "Documents processed. Time: 355.90648895270465\n"
     ]
    }
   ],
   "source": [
    "def separate_FOMC12():\n",
    "    \n",
    "    separation_rule = pd.read_excel('Separation.xlsx')"
   ]
  },
  {
   "cell_type": "code",
   "execution_count": 121,
   "metadata": {
    "collapsed": true
   },
   "outputs": [],
   "source": [
    "import pandas as pd\n",
    "import topicmodels\n",
    "import numpy as np\n",
    "from nltk.stem import PorterStemmer\n",
    "import nltk\n",
    "from nltk.collocations import *\n",
    "\n",
    "def preprocess():\n",
    "    \n",
    "    \n",
    "    '''\n",
    "    main function for preprocessing\n",
    "        \n",
    "    This function writes the tokenized documents, which includes columns of \n",
    "    \n",
    "    Date: date of the meeting\n",
    "    Section: FOMC1 or FOMC2\n",
    "    Speaker: speaker of the interjection\n",
    "    content: list of tokens in the interjection\n",
    "    \n",
    "    '''\n",
    "    \n",
    "    \n",
    "    text = pd.read_excel('raw_text_separated.xlsx')\n",
    "    text = text.fillna('0')\n",
    "    \n",
    "    text_separated = separation(text)\n",
    "    \n",
    "    text_separated_col = find_collocation(text_separated)\n",
    "    text_separated_col['content'] = tokenize(text_separated_col['content'].values)\n",
    "    text_separated_col.to_excel('FOMC_token_separated_new.xlsx')\n",
    "    \n",
    "def tokenize(content):\n",
    "    '''\n",
    "    Code for tokenization:\n",
    "        1. remove words with length of 1\n",
    "        2. remove non-alphabetical words\n",
    "        3. remove stop words\n",
    "        4. stem all words\n",
    "    '''\n",
    "    FOMC_token = []\n",
    "    for statement in content:\n",
    "        statement = statement.lower()\n",
    "        docsobj = topicmodels.RawDocs([statement], \"long\")\n",
    "        docsobj.token_clean(1)\n",
    "        docsobj.stopword_remove(\"tokens\")\n",
    "        docsobj.stem()\n",
    "        docsobj.stopword_remove(\"stems\")\n",
    "        ps = PorterStemmer()\n",
    "        FOMC_token.append(' '.join([ps.stem(word) for word in docsobj.tokens[0]]))\n",
    "        \n",
    "    return FOMC_token\n",
    "\n",
    "def separation(text):\n",
    "    \n",
    "    separation_rule = pd.read_excel('Separation.xlsx')\n",
    "    \n",
    "    FOMC_separation = pd.DataFrame(columns = ['Date','Speaker','content','Section'])\n",
    "    for i in separation_rule.index:\n",
    "\n",
    "        temp1 = raw_text[raw_text[\"Date\"].apply(lambda x: str(x)[:-2]) == str(i)].iloc[separation_rule['FOMC1_start'][i]:separation_rule['FOMC1_end'][i]]\n",
    "        temp1['Section'] = 1\n",
    "        if separation_rule['FOMC2_end'][i] == 'end':\n",
    "            temp2 = raw_text[raw_text[\"Date\"].apply(lambda x: str(x)[:-2]) == str(i)].iloc[separation_rule['FOMC2_start'][i]:]\n",
    "        else:\n",
    "            temp2 = raw_text[raw_text[\"Date\"].apply(lambda x: str(x)[:-2]) == str(i)].iloc[separation_rule['FOMC2_start'][i]:separation_rule['FOMC2_end'][i]]\n",
    "        temp2['Section'] = 2\n",
    "        FOMC_separation = FOMC_separation.append(temp1, ignore_index=True)\n",
    "        FOMC_separation = FOMC_separation.append(temp2, ignore_index = True)\n",
    "        \n",
    "    FOMC_separation.to_excel('raw_text_separated.xlsx')\n",
    "    return FOMC_separation\n",
    "\n",
    "def find_collocation(raw_text_separated):\n",
    "    \n",
    "    big_document = raw_text_separated['content'].apply(lambda x: x.split(' ')).values\n",
    "    bigram_measures = nltk.collocations.BigramAssocMeasures()\n",
    "    trigram_measures = nltk.collocations.TrigramAssocMeasures()\n",
    "    \n",
    "    finder_2 = BigramCollocationFinder.from_documents(big_document)\n",
    "    finder_2.apply_freq_filter(100)\n",
    "    bi_collocation = [' '.join(x) for x in np.array(finder_2.score_ngrams(bigram_measures.chi_sq))[:,0]]\n",
    "    bi_collocation_replace = [''.join(x) + 'xx' for x in np.array(finder_2.score_ngrams(bigram_measures.chi_sq))[:,0]]\n",
    "    \n",
    "    finder_3 = TrigramCollocationFinder.from_documents(big_document)\n",
    "    finder_3.apply_freq_filter(50)\n",
    "    tri_collocation = [' '.join(x) for x in np.array(finder_2.score_ngrams(trigram_measures.chi_sq))[:,0]]\n",
    "    tri_collocation_replace = [''.join(x) + 'xxx' for x in np.array(finder_2.score_ngrams(trigram_measures.chi_sq))[:,0]]   \n",
    "    \n",
    "    interjection_string = []\n",
    "    for meeting in raw_text_separated['content']:\n",
    "        for (i,bicol) in emuerate(bi_collocation):\n",
    "            meeting = meeting.replace(bicol, bi_collocation_replace[i])\n",
    "        for (i,tricol) in emuerate(tri_collocation):\n",
    "            meeting = meeting.replace(tricol, tri_collocation_replace[i])\n",
    "    \n",
    "        interjection_string.append(meeting)\n",
    "    \n",
    "    raw_text_separated['content'] = interjection_string\n",
    "    raw_text_separated.to_excel('FOMC_separated_Collocation.xlsx')\n",
    "    return raw_text_separated"
   ]
  },
  {
   "cell_type": "code",
   "execution_count": 122,
   "metadata": {},
   "outputs": [
    {
     "ename": "TypeError",
     "evalue": "_contingency() missing 1 required positional argument: 'n_xxx'",
     "output_type": "error",
     "traceback": [
      "\u001b[1;31m---------------------------------------------------------------------------\u001b[0m",
      "\u001b[1;31mTypeError\u001b[0m                                 Traceback (most recent call last)",
      "\u001b[1;32m<ipython-input-122-e3ff5b31f45b>\u001b[0m in \u001b[0;36m<module>\u001b[1;34m()\u001b[0m\n\u001b[1;32m----> 1\u001b[1;33m \u001b[0mget_ipython\u001b[0m\u001b[1;33m(\u001b[0m\u001b[1;33m)\u001b[0m\u001b[1;33m.\u001b[0m\u001b[0mrun_cell_magic\u001b[0m\u001b[1;33m(\u001b[0m\u001b[1;34m'time'\u001b[0m\u001b[1;33m,\u001b[0m \u001b[1;34m''\u001b[0m\u001b[1;33m,\u001b[0m \u001b[1;34m'preprocess()'\u001b[0m\u001b[1;33m)\u001b[0m\u001b[1;33m\u001b[0m\u001b[0m\n\u001b[0m",
      "\u001b[1;32mC:\\Users\\barry\\Anaconda3\\lib\\site-packages\\IPython\\core\\interactiveshell.py\u001b[0m in \u001b[0;36mrun_cell_magic\u001b[1;34m(self, magic_name, line, cell)\u001b[0m\n\u001b[0;32m   2113\u001b[0m             \u001b[0mmagic_arg_s\u001b[0m \u001b[1;33m=\u001b[0m \u001b[0mself\u001b[0m\u001b[1;33m.\u001b[0m\u001b[0mvar_expand\u001b[0m\u001b[1;33m(\u001b[0m\u001b[0mline\u001b[0m\u001b[1;33m,\u001b[0m \u001b[0mstack_depth\u001b[0m\u001b[1;33m)\u001b[0m\u001b[1;33m\u001b[0m\u001b[0m\n\u001b[0;32m   2114\u001b[0m             \u001b[1;32mwith\u001b[0m \u001b[0mself\u001b[0m\u001b[1;33m.\u001b[0m\u001b[0mbuiltin_trap\u001b[0m\u001b[1;33m:\u001b[0m\u001b[1;33m\u001b[0m\u001b[0m\n\u001b[1;32m-> 2115\u001b[1;33m                 \u001b[0mresult\u001b[0m \u001b[1;33m=\u001b[0m \u001b[0mfn\u001b[0m\u001b[1;33m(\u001b[0m\u001b[0mmagic_arg_s\u001b[0m\u001b[1;33m,\u001b[0m \u001b[0mcell\u001b[0m\u001b[1;33m)\u001b[0m\u001b[1;33m\u001b[0m\u001b[0m\n\u001b[0m\u001b[0;32m   2116\u001b[0m             \u001b[1;32mreturn\u001b[0m \u001b[0mresult\u001b[0m\u001b[1;33m\u001b[0m\u001b[0m\n\u001b[0;32m   2117\u001b[0m \u001b[1;33m\u001b[0m\u001b[0m\n",
      "\u001b[1;32m<decorator-gen-60>\u001b[0m in \u001b[0;36mtime\u001b[1;34m(self, line, cell, local_ns)\u001b[0m\n",
      "\u001b[1;32mC:\\Users\\barry\\Anaconda3\\lib\\site-packages\\IPython\\core\\magic.py\u001b[0m in \u001b[0;36m<lambda>\u001b[1;34m(f, *a, **k)\u001b[0m\n\u001b[0;32m    186\u001b[0m     \u001b[1;31m# but it's overkill for just that one bit of state.\u001b[0m\u001b[1;33m\u001b[0m\u001b[1;33m\u001b[0m\u001b[0m\n\u001b[0;32m    187\u001b[0m     \u001b[1;32mdef\u001b[0m \u001b[0mmagic_deco\u001b[0m\u001b[1;33m(\u001b[0m\u001b[0marg\u001b[0m\u001b[1;33m)\u001b[0m\u001b[1;33m:\u001b[0m\u001b[1;33m\u001b[0m\u001b[0m\n\u001b[1;32m--> 188\u001b[1;33m         \u001b[0mcall\u001b[0m \u001b[1;33m=\u001b[0m \u001b[1;32mlambda\u001b[0m \u001b[0mf\u001b[0m\u001b[1;33m,\u001b[0m \u001b[1;33m*\u001b[0m\u001b[0ma\u001b[0m\u001b[1;33m,\u001b[0m \u001b[1;33m**\u001b[0m\u001b[0mk\u001b[0m\u001b[1;33m:\u001b[0m \u001b[0mf\u001b[0m\u001b[1;33m(\u001b[0m\u001b[1;33m*\u001b[0m\u001b[0ma\u001b[0m\u001b[1;33m,\u001b[0m \u001b[1;33m**\u001b[0m\u001b[0mk\u001b[0m\u001b[1;33m)\u001b[0m\u001b[1;33m\u001b[0m\u001b[0m\n\u001b[0m\u001b[0;32m    189\u001b[0m \u001b[1;33m\u001b[0m\u001b[0m\n\u001b[0;32m    190\u001b[0m         \u001b[1;32mif\u001b[0m \u001b[0mcallable\u001b[0m\u001b[1;33m(\u001b[0m\u001b[0marg\u001b[0m\u001b[1;33m)\u001b[0m\u001b[1;33m:\u001b[0m\u001b[1;33m\u001b[0m\u001b[0m\n",
      "\u001b[1;32mC:\\Users\\barry\\Anaconda3\\lib\\site-packages\\IPython\\core\\magics\\execution.py\u001b[0m in \u001b[0;36mtime\u001b[1;34m(self, line, cell, local_ns)\u001b[0m\n\u001b[0;32m   1179\u001b[0m         \u001b[1;32mif\u001b[0m \u001b[0mmode\u001b[0m\u001b[1;33m==\u001b[0m\u001b[1;34m'eval'\u001b[0m\u001b[1;33m:\u001b[0m\u001b[1;33m\u001b[0m\u001b[0m\n\u001b[0;32m   1180\u001b[0m             \u001b[0mst\u001b[0m \u001b[1;33m=\u001b[0m \u001b[0mclock2\u001b[0m\u001b[1;33m(\u001b[0m\u001b[1;33m)\u001b[0m\u001b[1;33m\u001b[0m\u001b[0m\n\u001b[1;32m-> 1181\u001b[1;33m             \u001b[0mout\u001b[0m \u001b[1;33m=\u001b[0m \u001b[0meval\u001b[0m\u001b[1;33m(\u001b[0m\u001b[0mcode\u001b[0m\u001b[1;33m,\u001b[0m \u001b[0mglob\u001b[0m\u001b[1;33m,\u001b[0m \u001b[0mlocal_ns\u001b[0m\u001b[1;33m)\u001b[0m\u001b[1;33m\u001b[0m\u001b[0m\n\u001b[0m\u001b[0;32m   1182\u001b[0m             \u001b[0mend\u001b[0m \u001b[1;33m=\u001b[0m \u001b[0mclock2\u001b[0m\u001b[1;33m(\u001b[0m\u001b[1;33m)\u001b[0m\u001b[1;33m\u001b[0m\u001b[0m\n\u001b[0;32m   1183\u001b[0m         \u001b[1;32melse\u001b[0m\u001b[1;33m:\u001b[0m\u001b[1;33m\u001b[0m\u001b[0m\n",
      "\u001b[1;32m<timed eval>\u001b[0m in \u001b[0;36m<module>\u001b[1;34m()\u001b[0m\n",
      "\u001b[1;32m<ipython-input-121-f310e766a104>\u001b[0m in \u001b[0;36mpreprocess\u001b[1;34m()\u001b[0m\n\u001b[0;32m     27\u001b[0m     \u001b[0mtext_separated\u001b[0m \u001b[1;33m=\u001b[0m \u001b[0mseparation\u001b[0m\u001b[1;33m(\u001b[0m\u001b[0mtext\u001b[0m\u001b[1;33m)\u001b[0m\u001b[1;33m\u001b[0m\u001b[0m\n\u001b[0;32m     28\u001b[0m \u001b[1;33m\u001b[0m\u001b[0m\n\u001b[1;32m---> 29\u001b[1;33m     \u001b[0mtext_separated_col\u001b[0m \u001b[1;33m=\u001b[0m \u001b[0mfind_collocation\u001b[0m\u001b[1;33m(\u001b[0m\u001b[0mtext_separated\u001b[0m\u001b[1;33m)\u001b[0m\u001b[1;33m\u001b[0m\u001b[0m\n\u001b[0m\u001b[0;32m     30\u001b[0m     \u001b[0mtext_separated_col\u001b[0m\u001b[1;33m[\u001b[0m\u001b[1;34m'content'\u001b[0m\u001b[1;33m]\u001b[0m \u001b[1;33m=\u001b[0m \u001b[0mtokenize\u001b[0m\u001b[1;33m(\u001b[0m\u001b[0mtext_separated_col\u001b[0m\u001b[1;33m[\u001b[0m\u001b[1;34m'content'\u001b[0m\u001b[1;33m]\u001b[0m\u001b[1;33m.\u001b[0m\u001b[0mvalues\u001b[0m\u001b[1;33m)\u001b[0m\u001b[1;33m\u001b[0m\u001b[0m\n\u001b[0;32m     31\u001b[0m     \u001b[0mtext_separated_col\u001b[0m\u001b[1;33m.\u001b[0m\u001b[0mto_excel\u001b[0m\u001b[1;33m(\u001b[0m\u001b[1;34m'FOMC_token_separated_new.xlsx'\u001b[0m\u001b[1;33m)\u001b[0m\u001b[1;33m\u001b[0m\u001b[0m\n",
      "\u001b[1;32m<ipython-input-121-f310e766a104>\u001b[0m in \u001b[0;36mfind_collocation\u001b[1;34m(raw_text_separated)\u001b[0m\n\u001b[0;32m     85\u001b[0m     \u001b[0mfinder_3\u001b[0m \u001b[1;33m=\u001b[0m \u001b[0mTrigramCollocationFinder\u001b[0m\u001b[1;33m.\u001b[0m\u001b[0mfrom_documents\u001b[0m\u001b[1;33m(\u001b[0m\u001b[0mbig_document\u001b[0m\u001b[1;33m)\u001b[0m\u001b[1;33m\u001b[0m\u001b[0m\n\u001b[0;32m     86\u001b[0m     \u001b[0mfinder_3\u001b[0m\u001b[1;33m.\u001b[0m\u001b[0mapply_freq_filter\u001b[0m\u001b[1;33m(\u001b[0m\u001b[1;36m50\u001b[0m\u001b[1;33m)\u001b[0m\u001b[1;33m\u001b[0m\u001b[0m\n\u001b[1;32m---> 87\u001b[1;33m     \u001b[0mtri_collocation\u001b[0m \u001b[1;33m=\u001b[0m \u001b[1;33m[\u001b[0m\u001b[1;34m' '\u001b[0m\u001b[1;33m.\u001b[0m\u001b[0mjoin\u001b[0m\u001b[1;33m(\u001b[0m\u001b[0mx\u001b[0m\u001b[1;33m)\u001b[0m \u001b[1;32mfor\u001b[0m \u001b[0mx\u001b[0m \u001b[1;32min\u001b[0m \u001b[0mnp\u001b[0m\u001b[1;33m.\u001b[0m\u001b[0marray\u001b[0m\u001b[1;33m(\u001b[0m\u001b[0mfinder_2\u001b[0m\u001b[1;33m.\u001b[0m\u001b[0mscore_ngrams\u001b[0m\u001b[1;33m(\u001b[0m\u001b[0mtrigram_measures\u001b[0m\u001b[1;33m.\u001b[0m\u001b[0mchi_sq\u001b[0m\u001b[1;33m)\u001b[0m\u001b[1;33m)\u001b[0m\u001b[1;33m[\u001b[0m\u001b[1;33m:\u001b[0m\u001b[1;33m,\u001b[0m\u001b[1;36m0\u001b[0m\u001b[1;33m]\u001b[0m\u001b[1;33m]\u001b[0m\u001b[1;33m\u001b[0m\u001b[0m\n\u001b[0m\u001b[0;32m     88\u001b[0m     \u001b[0mtri_collocation_replace\u001b[0m \u001b[1;33m=\u001b[0m \u001b[1;33m[\u001b[0m\u001b[1;34m''\u001b[0m\u001b[1;33m.\u001b[0m\u001b[0mjoin\u001b[0m\u001b[1;33m(\u001b[0m\u001b[0mx\u001b[0m\u001b[1;33m)\u001b[0m \u001b[1;33m+\u001b[0m \u001b[1;34m'xx'\u001b[0m \u001b[1;32mfor\u001b[0m \u001b[0mx\u001b[0m \u001b[1;32min\u001b[0m \u001b[0mnp\u001b[0m\u001b[1;33m.\u001b[0m\u001b[0marray\u001b[0m\u001b[1;33m(\u001b[0m\u001b[0mfinder_2\u001b[0m\u001b[1;33m.\u001b[0m\u001b[0mscore_ngrams\u001b[0m\u001b[1;33m(\u001b[0m\u001b[0mtrigram_measures\u001b[0m\u001b[1;33m.\u001b[0m\u001b[0mchi_sq\u001b[0m\u001b[1;33m)\u001b[0m\u001b[1;33m)\u001b[0m\u001b[1;33m[\u001b[0m\u001b[1;33m:\u001b[0m\u001b[1;33m,\u001b[0m\u001b[1;36m0\u001b[0m\u001b[1;33m]\u001b[0m\u001b[1;33m]\u001b[0m\u001b[1;33m\u001b[0m\u001b[0m\n\u001b[0;32m     89\u001b[0m \u001b[1;33m\u001b[0m\u001b[0m\n",
      "\u001b[1;32mC:\\Users\\barry\\Anaconda3\\lib\\site-packages\\nltk\\collocations.py\u001b[0m in \u001b[0;36mscore_ngrams\u001b[1;34m(self, score_fn)\u001b[0m\n\u001b[0;32m    119\u001b[0m         \u001b[0mlowest\u001b[0m \u001b[0mscore\u001b[0m\u001b[1;33m,\u001b[0m \u001b[1;32mas\u001b[0m \u001b[0mdetermined\u001b[0m \u001b[0mby\u001b[0m \u001b[0mthe\u001b[0m \u001b[0mscoring\u001b[0m \u001b[0mfunction\u001b[0m \u001b[0mprovided\u001b[0m\u001b[1;33m.\u001b[0m\u001b[1;33m\u001b[0m\u001b[0m\n\u001b[0;32m    120\u001b[0m         \"\"\"\n\u001b[1;32m--> 121\u001b[1;33m         \u001b[1;32mreturn\u001b[0m \u001b[0msorted\u001b[0m\u001b[1;33m(\u001b[0m\u001b[0mself\u001b[0m\u001b[1;33m.\u001b[0m\u001b[0m_score_ngrams\u001b[0m\u001b[1;33m(\u001b[0m\u001b[0mscore_fn\u001b[0m\u001b[1;33m)\u001b[0m\u001b[1;33m,\u001b[0m \u001b[0mkey\u001b[0m\u001b[1;33m=\u001b[0m\u001b[1;32mlambda\u001b[0m \u001b[0mt\u001b[0m\u001b[1;33m:\u001b[0m \u001b[1;33m(\u001b[0m\u001b[1;33m-\u001b[0m\u001b[0mt\u001b[0m\u001b[1;33m[\u001b[0m\u001b[1;36m1\u001b[0m\u001b[1;33m]\u001b[0m\u001b[1;33m,\u001b[0m \u001b[0mt\u001b[0m\u001b[1;33m[\u001b[0m\u001b[1;36m0\u001b[0m\u001b[1;33m]\u001b[0m\u001b[1;33m)\u001b[0m\u001b[1;33m)\u001b[0m\u001b[1;33m\u001b[0m\u001b[0m\n\u001b[0m\u001b[0;32m    122\u001b[0m \u001b[1;33m\u001b[0m\u001b[0m\n\u001b[0;32m    123\u001b[0m     \u001b[1;32mdef\u001b[0m \u001b[0mnbest\u001b[0m\u001b[1;33m(\u001b[0m\u001b[0mself\u001b[0m\u001b[1;33m,\u001b[0m \u001b[0mscore_fn\u001b[0m\u001b[1;33m,\u001b[0m \u001b[0mn\u001b[0m\u001b[1;33m)\u001b[0m\u001b[1;33m:\u001b[0m\u001b[1;33m\u001b[0m\u001b[0m\n",
      "\u001b[1;32mC:\\Users\\barry\\Anaconda3\\lib\\site-packages\\nltk\\collocations.py\u001b[0m in \u001b[0;36m_score_ngrams\u001b[1;34m(self, score_fn)\u001b[0m\n\u001b[0;32m    111\u001b[0m         \"\"\"\n\u001b[0;32m    112\u001b[0m         \u001b[1;32mfor\u001b[0m \u001b[0mtup\u001b[0m \u001b[1;32min\u001b[0m \u001b[0mself\u001b[0m\u001b[1;33m.\u001b[0m\u001b[0mngram_fd\u001b[0m\u001b[1;33m:\u001b[0m\u001b[1;33m\u001b[0m\u001b[0m\n\u001b[1;32m--> 113\u001b[1;33m             \u001b[0mscore\u001b[0m \u001b[1;33m=\u001b[0m \u001b[0mself\u001b[0m\u001b[1;33m.\u001b[0m\u001b[0mscore_ngram\u001b[0m\u001b[1;33m(\u001b[0m\u001b[0mscore_fn\u001b[0m\u001b[1;33m,\u001b[0m \u001b[1;33m*\u001b[0m\u001b[0mtup\u001b[0m\u001b[1;33m)\u001b[0m\u001b[1;33m\u001b[0m\u001b[0m\n\u001b[0m\u001b[0;32m    114\u001b[0m             \u001b[1;32mif\u001b[0m \u001b[0mscore\u001b[0m \u001b[1;32mis\u001b[0m \u001b[1;32mnot\u001b[0m \u001b[1;32mNone\u001b[0m\u001b[1;33m:\u001b[0m\u001b[1;33m\u001b[0m\u001b[0m\n\u001b[0;32m    115\u001b[0m                 \u001b[1;32myield\u001b[0m \u001b[0mtup\u001b[0m\u001b[1;33m,\u001b[0m \u001b[0mscore\u001b[0m\u001b[1;33m\u001b[0m\u001b[0m\n",
      "\u001b[1;32mC:\\Users\\barry\\Anaconda3\\lib\\site-packages\\nltk\\collocations.py\u001b[0m in \u001b[0;36mscore_ngram\u001b[1;34m(self, score_fn, w1, w2)\u001b[0m\n\u001b[0;32m    183\u001b[0m         \u001b[0mn_ix\u001b[0m \u001b[1;33m=\u001b[0m \u001b[0mself\u001b[0m\u001b[1;33m.\u001b[0m\u001b[0mword_fd\u001b[0m\u001b[1;33m[\u001b[0m\u001b[0mw1\u001b[0m\u001b[1;33m]\u001b[0m\u001b[1;33m\u001b[0m\u001b[0m\n\u001b[0;32m    184\u001b[0m         \u001b[0mn_xi\u001b[0m \u001b[1;33m=\u001b[0m \u001b[0mself\u001b[0m\u001b[1;33m.\u001b[0m\u001b[0mword_fd\u001b[0m\u001b[1;33m[\u001b[0m\u001b[0mw2\u001b[0m\u001b[1;33m]\u001b[0m\u001b[1;33m\u001b[0m\u001b[0m\n\u001b[1;32m--> 185\u001b[1;33m         \u001b[1;32mreturn\u001b[0m \u001b[0mscore_fn\u001b[0m\u001b[1;33m(\u001b[0m\u001b[0mn_ii\u001b[0m\u001b[1;33m,\u001b[0m \u001b[1;33m(\u001b[0m\u001b[0mn_ix\u001b[0m\u001b[1;33m,\u001b[0m \u001b[0mn_xi\u001b[0m\u001b[1;33m)\u001b[0m\u001b[1;33m,\u001b[0m \u001b[0mn_all\u001b[0m\u001b[1;33m)\u001b[0m\u001b[1;33m\u001b[0m\u001b[0m\n\u001b[0m\u001b[0;32m    186\u001b[0m \u001b[1;33m\u001b[0m\u001b[0m\n\u001b[0;32m    187\u001b[0m \u001b[1;33m\u001b[0m\u001b[0m\n",
      "\u001b[1;32mC:\\Users\\barry\\Anaconda3\\lib\\site-packages\\nltk\\metrics\\association.py\u001b[0m in \u001b[0;36mchi_sq\u001b[1;34m(cls, *marginals)\u001b[0m\n\u001b[0;32m    112\u001b[0m         \u001b[1;36m5.3\u001b[0m\u001b[1;36m.3\u001b[0m\u001b[1;33m.\u001b[0m\u001b[1;33m\u001b[0m\u001b[0m\n\u001b[0;32m    113\u001b[0m         \"\"\"\n\u001b[1;32m--> 114\u001b[1;33m         \u001b[0mcont\u001b[0m \u001b[1;33m=\u001b[0m \u001b[0mcls\u001b[0m\u001b[1;33m.\u001b[0m\u001b[0m_contingency\u001b[0m\u001b[1;33m(\u001b[0m\u001b[1;33m*\u001b[0m\u001b[0mmarginals\u001b[0m\u001b[1;33m)\u001b[0m\u001b[1;33m\u001b[0m\u001b[0m\n\u001b[0m\u001b[0;32m    115\u001b[0m         \u001b[0mexps\u001b[0m \u001b[1;33m=\u001b[0m \u001b[0mcls\u001b[0m\u001b[1;33m.\u001b[0m\u001b[0m_expected_values\u001b[0m\u001b[1;33m(\u001b[0m\u001b[0mcont\u001b[0m\u001b[1;33m)\u001b[0m\u001b[1;33m\u001b[0m\u001b[0m\n\u001b[0;32m    116\u001b[0m         return sum((obs - exp) ** 2 / (exp + _SMALL)\n",
      "\u001b[1;31mTypeError\u001b[0m: _contingency() missing 1 required positional argument: 'n_xxx'"
     ]
    }
   ],
   "source": [
    "%%time\n",
    "preprocess()"
   ]
  },
  {
   "cell_type": "code",
   "execution_count": null,
   "metadata": {
    "collapsed": true
   },
   "outputs": [],
   "source": []
  }
 ],
 "metadata": {
  "kernelspec": {
   "display_name": "Python 3",
   "language": "python",
   "name": "python3"
  },
  "language_info": {
   "codemirror_mode": {
    "name": "ipython",
    "version": 3
   },
   "file_extension": ".py",
   "mimetype": "text/x-python",
   "name": "python",
   "nbconvert_exporter": "python",
   "pygments_lexer": "ipython3",
   "version": "3.6.1"
  },
  "latex_envs": {
   "LaTeX_envs_menu_present": true,
   "autoclose": false,
   "autocomplete": true,
   "bibliofile": "biblio.bib",
   "cite_by": "apalike",
   "current_citInitial": 1,
   "eqLabelWithNumbers": true,
   "eqNumInitial": 1,
   "hotkeys": {
    "equation": "Ctrl-E",
    "itemize": "Ctrl-I"
   },
   "labels_anchors": false,
   "latex_user_defs": false,
   "report_style_numbering": false,
   "user_envs_cfg": false
  }
 },
 "nbformat": 4,
 "nbformat_minor": 2
}
