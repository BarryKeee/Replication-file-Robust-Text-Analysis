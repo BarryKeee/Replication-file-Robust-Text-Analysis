{
 "cells": [
  {
   "cell_type": "code",
   "execution_count": 328,
   "metadata": {
    "collapsed": true
   },
   "outputs": [],
   "source": [
    "import numpy as np\n",
    "import pandas as pd\n",
    "import numba"
   ]
  },
  {
   "cell_type": "markdown",
   "metadata": {},
   "source": [
    "NMF with numba"
   ]
  },
  {
   "cell_type": "code",
   "execution_count": 2,
   "metadata": {
    "collapsed": true
   },
   "outputs": [],
   "source": [
    "def WKLNMF(N, k, eps, maxit):\n",
    "    P = N / N.sum(axis = 0)\n",
    "    V, D = N.shape\n",
    "    W = N\n",
    "    B = np.random.uniform(size = (V, k))\n",
    "    B = B / B.sum(axis = 0)\n",
    "\n",
    "    Theta = np.random.uniform(size = (k, D))\n",
    "    Theta = Theta/Theta.sum(axis = 0)\n",
    "    \n",
    "    for i in range(maxit):\n",
    "        Theta = np.multiply(np.divide(Theta, np.matmul(B.transpose(),W)), \n",
    "                            np.matmul(B.transpose(),np.divide(np.multiply(W,P),np.matmul(B,Theta))))\n",
    "        B = np.multiply(np.divide(B, np.matmul(W, Theta.transpose())), \n",
    "                        np.matmul(np.divide(np.multiply(W, P), np.matmul(B, Theta)), Theta.transpose()))\n",
    "        #print(KL(W,P,B,Theta))\n",
    "        if KL(W, P, B, Theta) < eps:\n",
    "            break\n",
    "    #print(i)\n",
    "    \n",
    "    return B, Theta\n",
    "\n",
    "def KL(W,P,B,Theta):\n",
    "    loss = 0\n",
    "    P_hat = np.matmul(B, Theta)\n",
    "    for i in range(W.shape[0]):\n",
    "        for j in range(W.shape[1]):\n",
    "            loss += W[i,j]*(P[i,j]*np.log(P[i,j]/P_hat[i,j])-P[i,j] + P_hat[i,j])\n",
    "            \n",
    "    return loss\n",
    "\n"
   ]
  },
  {
   "cell_type": "code",
   "execution_count": 15,
   "metadata": {},
   "outputs": [],
   "source": [
    "N = np.random.randint(1,20,size = (10000,20000))\n",
    "N = N / N.sum(axis = 0)\n",
    "k = 20\n",
    "eps = 10e-2\n",
    "maxit = 100"
   ]
  },
  {
   "cell_type": "code",
   "execution_count": 5,
   "metadata": {},
   "outputs": [
    {
     "name": "stderr",
     "output_type": "stream",
     "text": [
      "C:\\Users\\barry\\Anaconda3\\lib\\site-packages\\ipykernel_launcher.py:28: RuntimeWarning: divide by zero encountered in log\n",
      "C:\\Users\\barry\\Anaconda3\\lib\\site-packages\\ipykernel_launcher.py:28: RuntimeWarning: invalid value encountered in double_scalars\n"
     ]
    },
    {
     "name": "stdout",
     "output_type": "stream",
     "text": [
      "Wall time: 22.3 s\n"
     ]
    },
    {
     "data": {
      "text/plain": [
       "(array([[0.00746431, 0.00055929, 0.00920337, ..., 0.00110429, 0.02092352,\n",
       "         0.00153673],\n",
       "        [0.00539106, 0.00083921, 0.00384299, ..., 0.0007203 , 0.00280014,\n",
       "         0.01123968],\n",
       "        [0.00567421, 0.01718279, 0.00100391, ..., 0.00164398, 0.00456805,\n",
       "         0.00995607],\n",
       "        ...,\n",
       "        [0.00586525, 0.00432757, 0.00288669, ..., 0.00449483, 0.00464201,\n",
       "         0.02220088],\n",
       "        [0.0164468 , 0.02154836, 0.01036647, ..., 0.00111193, 0.00251421,\n",
       "         0.01047645],\n",
       "        [0.00074129, 0.00960939, 0.00406671, ..., 0.00596256, 0.00304758,\n",
       "         0.01688359]]),\n",
       " array([[0.15933048, 0.12496188, 0.0985239 , ..., 0.06216874, 0.18852865,\n",
       "         0.09481424],\n",
       "        [0.00277351, 0.10557129, 0.01432642, ..., 0.00749124, 0.00644578,\n",
       "         0.01232335],\n",
       "        [0.03982357, 0.0388621 , 0.15884498, ..., 0.15941586, 0.00697769,\n",
       "         0.07341061],\n",
       "        ...,\n",
       "        [0.0012296 , 0.09773317, 0.00698148, ..., 0.01204276, 0.08616812,\n",
       "         0.06580205],\n",
       "        [0.10185995, 0.08868914, 0.06924381, ..., 0.03710259, 0.06159018,\n",
       "         0.13078925],\n",
       "        [0.00101046, 0.10729984, 0.14857711, ..., 0.14379283, 0.01641038,\n",
       "         0.0007489 ]]))"
      ]
     },
     "execution_count": 5,
     "metadata": {},
     "output_type": "execute_result"
    }
   ],
   "source": [
    "%%time \n",
    "WKLNMF(N, k, eps, maxit)"
   ]
  },
  {
   "cell_type": "code",
   "execution_count": 13,
   "metadata": {},
   "outputs": [],
   "source": [
    "@numba.jit\n",
    "def WKLNMF(P, k, eps, maxit):\n",
    "    V, D = P.shape\n",
    "    W = P\n",
    "    p_max = P.max()\n",
    "    p_min = P.min()\n",
    "\n",
    "    B = np.random.uniform(p_min,p_max,size = (V, k))\n",
    "    B = B / B.sum(axis = 0)\n",
    "\n",
    "    Theta = np.random.uniform(p_min,p_max,size = (k, D))\n",
    "    Theta = Theta/Theta.sum(axis = 0)\n",
    "    \n",
    "    for i in numba.prange(maxit):\n",
    "        Theta = (Theta/np.matmul(B.T,W))*np.matmul(B.T,(W*P)/np.matmul(B,Theta))\n",
    "        B = (B/np.matmul(W, Theta.T))*np.matmul((W*P)/np.matmul(B, Theta), Theta.T)\n",
    "        KL_div = KL(W,P,B,Theta)\n",
    "        print(KL_div)\n",
    "        #print(KL(W,P,B,Theta))\n",
    "        if KL_div < eps:\n",
    "            break\n",
    "    #print(i)\n",
    "    \n",
    "    return B, Theta\n",
    "@numba.jit\n",
    "def KL(W,P,B,Theta):\n",
    "    loss = 0\n",
    "    P_hat = np.matmul(B, Theta)\n",
    "    \n",
    "    loss = np.sum(W*(P*np.log(P/P_hat) - P + P_hat))\n",
    "            \n",
    "    return loss\n",
    "\n"
   ]
  },
  {
   "cell_type": "code",
   "execution_count": 16,
   "metadata": {},
   "outputs": [
    {
     "name": "stdout",
     "output_type": "stream",
     "text": [
      "0.19098134424589527\n",
      "0.19076987956297808\n",
      "0.19057294499531388\n",
      "0.19038870774153505\n",
      "0.19021602607383162\n"
     ]
    },
    {
     "ename": "KeyboardInterrupt",
     "evalue": "",
     "output_type": "error",
     "traceback": [
      "\u001b[1;31m---------------------------------------------------------------------------\u001b[0m",
      "\u001b[1;31mKeyboardInterrupt\u001b[0m                         Traceback (most recent call last)",
      "\u001b[1;32m<ipython-input-16-e49036a1c310>\u001b[0m in \u001b[0;36m<module>\u001b[1;34m()\u001b[0m\n\u001b[1;32m----> 1\u001b[1;33m \u001b[0mget_ipython\u001b[0m\u001b[1;33m(\u001b[0m\u001b[1;33m)\u001b[0m\u001b[1;33m.\u001b[0m\u001b[0mrun_cell_magic\u001b[0m\u001b[1;33m(\u001b[0m\u001b[1;34m'time'\u001b[0m\u001b[1;33m,\u001b[0m \u001b[1;34m''\u001b[0m\u001b[1;33m,\u001b[0m \u001b[1;34m'b, theta = WKLNMF(N, k, eps, maxit)'\u001b[0m\u001b[1;33m)\u001b[0m\u001b[1;33m\u001b[0m\u001b[0m\n\u001b[0m",
      "\u001b[1;32mC:\\Users\\barry\\Anaconda3\\lib\\site-packages\\IPython\\core\\interactiveshell.py\u001b[0m in \u001b[0;36mrun_cell_magic\u001b[1;34m(self, magic_name, line, cell)\u001b[0m\n\u001b[0;32m   2113\u001b[0m             \u001b[0mmagic_arg_s\u001b[0m \u001b[1;33m=\u001b[0m \u001b[0mself\u001b[0m\u001b[1;33m.\u001b[0m\u001b[0mvar_expand\u001b[0m\u001b[1;33m(\u001b[0m\u001b[0mline\u001b[0m\u001b[1;33m,\u001b[0m \u001b[0mstack_depth\u001b[0m\u001b[1;33m)\u001b[0m\u001b[1;33m\u001b[0m\u001b[0m\n\u001b[0;32m   2114\u001b[0m             \u001b[1;32mwith\u001b[0m \u001b[0mself\u001b[0m\u001b[1;33m.\u001b[0m\u001b[0mbuiltin_trap\u001b[0m\u001b[1;33m:\u001b[0m\u001b[1;33m\u001b[0m\u001b[0m\n\u001b[1;32m-> 2115\u001b[1;33m                 \u001b[0mresult\u001b[0m \u001b[1;33m=\u001b[0m \u001b[0mfn\u001b[0m\u001b[1;33m(\u001b[0m\u001b[0mmagic_arg_s\u001b[0m\u001b[1;33m,\u001b[0m \u001b[0mcell\u001b[0m\u001b[1;33m)\u001b[0m\u001b[1;33m\u001b[0m\u001b[0m\n\u001b[0m\u001b[0;32m   2116\u001b[0m             \u001b[1;32mreturn\u001b[0m \u001b[0mresult\u001b[0m\u001b[1;33m\u001b[0m\u001b[0m\n\u001b[0;32m   2117\u001b[0m \u001b[1;33m\u001b[0m\u001b[0m\n",
      "\u001b[1;32m<decorator-gen-60>\u001b[0m in \u001b[0;36mtime\u001b[1;34m(self, line, cell, local_ns)\u001b[0m\n",
      "\u001b[1;32mC:\\Users\\barry\\Anaconda3\\lib\\site-packages\\IPython\\core\\magic.py\u001b[0m in \u001b[0;36m<lambda>\u001b[1;34m(f, *a, **k)\u001b[0m\n\u001b[0;32m    186\u001b[0m     \u001b[1;31m# but it's overkill for just that one bit of state.\u001b[0m\u001b[1;33m\u001b[0m\u001b[1;33m\u001b[0m\u001b[0m\n\u001b[0;32m    187\u001b[0m     \u001b[1;32mdef\u001b[0m \u001b[0mmagic_deco\u001b[0m\u001b[1;33m(\u001b[0m\u001b[0marg\u001b[0m\u001b[1;33m)\u001b[0m\u001b[1;33m:\u001b[0m\u001b[1;33m\u001b[0m\u001b[0m\n\u001b[1;32m--> 188\u001b[1;33m         \u001b[0mcall\u001b[0m \u001b[1;33m=\u001b[0m \u001b[1;32mlambda\u001b[0m \u001b[0mf\u001b[0m\u001b[1;33m,\u001b[0m \u001b[1;33m*\u001b[0m\u001b[0ma\u001b[0m\u001b[1;33m,\u001b[0m \u001b[1;33m**\u001b[0m\u001b[0mk\u001b[0m\u001b[1;33m:\u001b[0m \u001b[0mf\u001b[0m\u001b[1;33m(\u001b[0m\u001b[1;33m*\u001b[0m\u001b[0ma\u001b[0m\u001b[1;33m,\u001b[0m \u001b[1;33m**\u001b[0m\u001b[0mk\u001b[0m\u001b[1;33m)\u001b[0m\u001b[1;33m\u001b[0m\u001b[0m\n\u001b[0m\u001b[0;32m    189\u001b[0m \u001b[1;33m\u001b[0m\u001b[0m\n\u001b[0;32m    190\u001b[0m         \u001b[1;32mif\u001b[0m \u001b[0mcallable\u001b[0m\u001b[1;33m(\u001b[0m\u001b[0marg\u001b[0m\u001b[1;33m)\u001b[0m\u001b[1;33m:\u001b[0m\u001b[1;33m\u001b[0m\u001b[0m\n",
      "\u001b[1;32mC:\\Users\\barry\\Anaconda3\\lib\\site-packages\\IPython\\core\\magics\\execution.py\u001b[0m in \u001b[0;36mtime\u001b[1;34m(self, line, cell, local_ns)\u001b[0m\n\u001b[0;32m   1183\u001b[0m         \u001b[1;32melse\u001b[0m\u001b[1;33m:\u001b[0m\u001b[1;33m\u001b[0m\u001b[0m\n\u001b[0;32m   1184\u001b[0m             \u001b[0mst\u001b[0m \u001b[1;33m=\u001b[0m \u001b[0mclock2\u001b[0m\u001b[1;33m(\u001b[0m\u001b[1;33m)\u001b[0m\u001b[1;33m\u001b[0m\u001b[0m\n\u001b[1;32m-> 1185\u001b[1;33m             \u001b[0mexec\u001b[0m\u001b[1;33m(\u001b[0m\u001b[0mcode\u001b[0m\u001b[1;33m,\u001b[0m \u001b[0mglob\u001b[0m\u001b[1;33m,\u001b[0m \u001b[0mlocal_ns\u001b[0m\u001b[1;33m)\u001b[0m\u001b[1;33m\u001b[0m\u001b[0m\n\u001b[0m\u001b[0;32m   1186\u001b[0m             \u001b[0mend\u001b[0m \u001b[1;33m=\u001b[0m \u001b[0mclock2\u001b[0m\u001b[1;33m(\u001b[0m\u001b[1;33m)\u001b[0m\u001b[1;33m\u001b[0m\u001b[0m\n\u001b[0;32m   1187\u001b[0m             \u001b[0mout\u001b[0m \u001b[1;33m=\u001b[0m \u001b[1;32mNone\u001b[0m\u001b[1;33m\u001b[0m\u001b[0m\n",
      "\u001b[1;32m<timed exec>\u001b[0m in \u001b[0;36m<module>\u001b[1;34m()\u001b[0m\n",
      "\u001b[1;32mC:\\Users\\barry\\Anaconda3\\lib\\site-packages\\numpy\\core\\fromnumeric.py\u001b[0m in \u001b[0;36msum\u001b[1;34m(a, axis, dtype, out, keepdims, initial)\u001b[0m\n\u001b[0;32m   1819\u001b[0m \u001b[1;33m\u001b[0m\u001b[0m\n\u001b[0;32m   1820\u001b[0m \u001b[1;33m\u001b[0m\u001b[0m\n\u001b[1;32m-> 1821\u001b[1;33m \u001b[1;32mdef\u001b[0m \u001b[0msum\u001b[0m\u001b[1;33m(\u001b[0m\u001b[0ma\u001b[0m\u001b[1;33m,\u001b[0m \u001b[0maxis\u001b[0m\u001b[1;33m=\u001b[0m\u001b[1;32mNone\u001b[0m\u001b[1;33m,\u001b[0m \u001b[0mdtype\u001b[0m\u001b[1;33m=\u001b[0m\u001b[1;32mNone\u001b[0m\u001b[1;33m,\u001b[0m \u001b[0mout\u001b[0m\u001b[1;33m=\u001b[0m\u001b[1;32mNone\u001b[0m\u001b[1;33m,\u001b[0m \u001b[0mkeepdims\u001b[0m\u001b[1;33m=\u001b[0m\u001b[0mnp\u001b[0m\u001b[1;33m.\u001b[0m\u001b[0m_NoValue\u001b[0m\u001b[1;33m,\u001b[0m \u001b[0minitial\u001b[0m\u001b[1;33m=\u001b[0m\u001b[0mnp\u001b[0m\u001b[1;33m.\u001b[0m\u001b[0m_NoValue\u001b[0m\u001b[1;33m)\u001b[0m\u001b[1;33m:\u001b[0m\u001b[1;33m\u001b[0m\u001b[0m\n\u001b[0m\u001b[0;32m   1822\u001b[0m     \"\"\"\n\u001b[0;32m   1823\u001b[0m     \u001b[0mSum\u001b[0m \u001b[0mof\u001b[0m \u001b[0marray\u001b[0m \u001b[0melements\u001b[0m \u001b[0mover\u001b[0m \u001b[0ma\u001b[0m \u001b[0mgiven\u001b[0m \u001b[0maxis\u001b[0m\u001b[1;33m.\u001b[0m\u001b[1;33m\u001b[0m\u001b[0m\n",
      "\u001b[1;31mKeyboardInterrupt\u001b[0m: "
     ]
    }
   ],
   "source": [
    "%%time\n",
    "b, theta = WKLNMF(N, k, eps, maxit)"
   ]
  },
  {
   "cell_type": "code",
   "execution_count": 17,
   "metadata": {},
   "outputs": [],
   "source": [
    "import os\n",
    "td_matrix_pd = pd.read_csv(os.path.join(os.getcwd(),'term-document matrix','Matrix_interjection_tfidf.csv'))\n",
    "td_matrix_pd = td_matrix_pd.replace(0,1e-10)\n",
    "td_matrix = td_matrix_pd.values\n",
    "td_matrix = td_matrix / td_matrix.sum(axis = 0)"
   ]
  },
  {
   "cell_type": "code",
   "execution_count": 18,
   "metadata": {},
   "outputs": [
    {
     "data": {
      "text/plain": [
       "7.070525165377817e-18"
      ]
     },
     "execution_count": 18,
     "metadata": {},
     "output_type": "execute_result"
    }
   ],
   "source": [
    "td_matrix.max()\n",
    "td_matrix.min()"
   ]
  },
  {
   "cell_type": "code",
   "execution_count": 23,
   "metadata": {},
   "outputs": [
    {
     "name": "stdout",
     "output_type": "stream",
     "text": [
      "0.18859092234786531\n",
      "0.1885283474672066\n",
      "0.1884681370666125\n",
      "0.18840992189552155\n",
      "0.18835360659962055\n",
      "0.18829910175178768\n",
      "0.18824632339854752\n",
      "0.1881951926476393\n",
      "0.18814563529240613\n",
      "0.18809758146916272\n",
      "0.18805096534429308\n",
      "0.1880057248280113\n",
      "0.18796180131225806\n",
      "0.18791913943029956\n",
      "0.18787768683602354\n",
      "0.1878373940010463\n",
      "0.18779821402796362\n",
      "0.18776010247827069\n",
      "0.18772301721364462\n",
      "0.18768691824934955\n",
      "0.1876517676187425\n",
      "0.18761752924785943\n",
      "0.18758416883927362\n",
      "0.18755165376438412\n",
      "0.18751995296345436\n",
      "0.18748903685275795\n",
      "0.18745887723823845\n",
      "0.18742944723515567\n",
      "0.1874007211932508\n",
      "0.18737267462698354\n",
      "0.18734528415043744\n",
      "0.18731852741655633\n",
      "0.1872923830603417\n",
      "0.18726683064577185\n",
      "0.18724185061608078\n",
      "0.18721742424722462\n",
      "0.18719353360425908\n",
      "0.18717016150043492\n",
      "0.18714729145880077\n",
      "0.18712490767614348\n",
      "0.1871029949891209\n",
      "0.18708153884238507\n",
      "0.1870605252586214\n",
      "0.1870399408103089\n",
      "0.18701977259314637\n",
      "0.18700000820097987\n",
      "0.18698063570217394\n",
      "0.1869616436172985\n",
      "0.18694302089806866\n",
      "0.1869247569074527\n",
      "0.18690684140085426\n",
      "0.1868892645083323\n",
      "0.1868720167177713\n",
      "0.18685508885894817\n",
      "0.18683847208843718\n",
      "0.18682215787531317\n",
      "0.1868061379875981\n",
      "0.18679040447938966\n",
      "0.18677494967867678\n",
      "0.18675976617574025\n",
      "0.1867448468121496\n",
      "0.18673018467031804\n",
      "0.1867157730635577\n",
      "0.18670160552662285\n",
      "0.18668767580672996\n",
      "0.1866739778549801\n",
      "0.186660505818233\n",
      "0.1866472540313144\n",
      "0.18663421700964708\n",
      "0.18662138944218287\n",
      "0.18660876618467764\n",
      "0.18659634225328178\n",
      "0.18658411281841325\n",
      "0.18657207319891292\n",
      "0.18656021885646767\n",
      "0.18654854539026636\n",
      "0.18653704853191272\n",
      "0.1865257241405451\n",
      "0.1865145681981891\n",
      "0.1865035768052888\n",
      "0.18649274617644174\n",
      "0.18648207263632646\n",
      "0.18647155261577844\n",
      "0.18646118264805908\n",
      "0.186450959365259\n",
      "0.1864408794948614\n",
      "0.1864309398564479\n",
      "0.18642113735853258\n",
      "0.1864114689955359\n",
      "0.18640193184486975\n",
      "0.18639252306414705\n",
      "0.18638323988850683\n",
      "0.18637407962801955\n",
      "0.18636503966523998\n",
      "0.18635611745281644\n",
      "0.1863473105112084\n",
      "0.1863386164264936\n",
      "0.186330032848257\n",
      "0.1863215574875589\n",
      "0.18631318811498385\n",
      "Wall time: 24min 13s\n"
     ]
    }
   ],
   "source": [
    "%%time\n",
    "b, theta = WKLNMF(N, 40, eps, maxit)"
   ]
  },
  {
   "cell_type": "markdown",
   "metadata": {},
   "source": [
    "NMF with ANLS"
   ]
  },
  {
   "cell_type": "code",
   "execution_count": 329,
   "metadata": {},
   "outputs": [],
   "source": [
    "@numba.jit\n",
    "def NMF_ANLS_full(P,k):\n",
    "\n",
    "    B = np.random.uniform(low = 1, high = 1000,size = (P.shape[0], k))\n",
    "    B = B/B.sum(axis = 0)\n",
    "\n",
    "    return B, NMF_ANLS(B,P)\n",
    "\n",
    "@numba.jit\n",
    "def NMF_ANLS(B, P):\n",
    "    \n",
    "    theta = np.zeros(shape = (B.shape[1],P.shape[1]))\n",
    "    \n",
    "    for i,column in enumerate(P.T):\n",
    "        theta[:,i] = ANLS_column(B, column)\n",
    "        \n",
    "    return theta\n",
    "\n",
    "@numba.jit\n",
    "def ANLS_column(B, y):\n",
    "    \n",
    "    m,n = B.shape\n",
    "    g = np.zeros(n)\n",
    "    E = np.arange(n)\n",
    "    S = np.array([])\n",
    "    w = np.matmul(B.T, y-np.matmul(B,g))\n",
    "    \n",
    "\n",
    "    while len(E) != 0 and w[E].max() > 0:\n",
    "        \n",
    "        t = w[E].argmax()\n",
    "        E = np.delete(E, t).astype(int)\n",
    "        S = np.append(S,t).astype(int)\n",
    "        \n",
    "        Bs = B.copy()\n",
    "        Bs[:,E] = 0\n",
    "        \n",
    "        z = np.linalg.lstsq(Bs, y, rcond=None)[0]\n",
    "        z[E] = 0\n",
    "\n",
    "        while z[S].max() <= 0:\n",
    "            \n",
    "            alpha = (g/(g-z))[S].min()\n",
    "            \n",
    "            g = g + alpha*(z-g)\n",
    "            \n",
    "            s_move = S[g[S] == 0]\n",
    "            S = np.delete(S, s_move).astype(int)\n",
    "            E = np.append(E, s_move).astype(int)\n",
    "            Bs = B.copy()\n",
    "            Bs[:,E] = 0            \n",
    "            z = np.linalg.lstsq(Bs, y, rcond=None)[0]\n",
    "            #z[E] = 0\n",
    "        g = z\n",
    "        w = np.matmul(B.T, y-np.matmul(B,g))\n",
    "    \n",
    "    return g"
   ]
  },
  {
   "cell_type": "code",
   "execution_count": 319,
   "metadata": {},
   "outputs": [],
   "source": [
    "P = np.random.randint(low = 1, high = 100, size = (50,100))\n",
    "P = P/P.sum(axis = 0)"
   ]
  },
  {
   "cell_type": "code",
   "execution_count": 332,
   "metadata": {},
   "outputs": [],
   "source": [
    "import pandas as pd\n",
    "import os\n",
    "#td_matrix_pd = pd.read_csv(os.path.join(os.getcwd(),'term-document matrix','Matrix_interjection_tfidf.csv'))\n",
    "td_matrix_pd = td_matrix_pd.replace(0,1e-10)\n",
    "td_matrix = td_matrix_pd.values\n",
    "td_matrix = td_matrix / td_matrix.sum(axis = 0)"
   ]
  },
  {
   "cell_type": "code",
   "execution_count": 337,
   "metadata": {},
   "outputs": [
    {
     "name": "stdout",
     "output_type": "stream",
     "text": [
      "Wall time: 19min 11s\n"
     ]
    }
   ],
   "source": [
    "%%time\n",
    "B, theta = NMF_ANLS_full(td_matrix, 40)"
   ]
  },
  {
   "cell_type": "code",
   "execution_count": 336,
   "metadata": {},
   "outputs": [],
   "source": [
    "B_first = B\n",
    "theta_first = theta"
   ]
  },
  {
   "cell_type": "code",
   "execution_count": 340,
   "metadata": {},
   "outputs": [
    {
     "data": {
      "text/plain": [
       "array([[2.94712772e-04, 6.95464179e-05, 9.44301738e-05, ...,\n",
       "        3.84266404e-05, 2.43194934e-04, 2.39614257e-04],\n",
       "       [3.40411725e-04, 2.08899072e-04, 6.54339596e-05, ...,\n",
       "        2.27072622e-04, 1.90630476e-04, 3.03354191e-04],\n",
       "       [2.17207526e-04, 2.43072041e-04, 1.67023961e-04, ...,\n",
       "        6.29972748e-06, 1.57955835e-04, 1.50210535e-04],\n",
       "       ...,\n",
       "       [3.04181734e-04, 1.89596396e-04, 1.75017323e-04, ...,\n",
       "        2.98197940e-04, 6.12850206e-05, 1.95914146e-04],\n",
       "       [4.46340813e-05, 1.07273925e-04, 1.38943421e-05, ...,\n",
       "        1.00181831e-04, 3.05002402e-04, 3.32230019e-04],\n",
       "       [2.92562957e-04, 3.69910190e-05, 1.44337704e-04, ...,\n",
       "        6.95121413e-05, 1.98232899e-04, 3.27610491e-04]])"
      ]
     },
     "execution_count": 340,
     "metadata": {},
     "output_type": "execute_result"
    }
   ],
   "source": [
    "B"
   ]
  }
 ],
 "metadata": {
  "kernelspec": {
   "display_name": "Python 3",
   "language": "python",
   "name": "python3"
  },
  "language_info": {
   "codemirror_mode": {
    "name": "ipython",
    "version": 3
   },
   "file_extension": ".py",
   "mimetype": "text/x-python",
   "name": "python",
   "nbconvert_exporter": "python",
   "pygments_lexer": "ipython3",
   "version": "3.7.3"
  },
  "latex_envs": {
   "LaTeX_envs_menu_present": true,
   "autoclose": false,
   "autocomplete": true,
   "bibliofile": "biblio.bib",
   "cite_by": "apalike",
   "current_citInitial": 1,
   "eqLabelWithNumbers": true,
   "eqNumInitial": 1,
   "hotkeys": {
    "equation": "Ctrl-E",
    "itemize": "Ctrl-I"
   },
   "labels_anchors": false,
   "latex_user_defs": false,
   "report_style_numbering": false,
   "user_envs_cfg": false
  }
 },
 "nbformat": 4,
 "nbformat_minor": 2
}
